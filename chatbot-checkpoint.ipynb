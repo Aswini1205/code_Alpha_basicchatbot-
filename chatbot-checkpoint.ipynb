{
 "cells": [
  {
   "cell_type": "code",
   "execution_count": null,
   "id": "a535c3f8-47ed-463f-b7d2-42ee30fcf649",
   "metadata": {},
   "outputs": [
    {
     "name": "stderr",
     "output_type": "stream",
     "text": [
      "[nltk_data] Downloading package punkt to\n",
      "[nltk_data]     C:\\Users\\Mani\\AppData\\Roaming\\nltk_data...\n",
      "[nltk_data]   Unzipping tokenizers\\punkt.zip.\n"
     ]
    }
   ],
   "source": [
    "import random \n",
    "import nltk\n",
    "from nltk.chat.util import Chat, reflections\n",
    "import nltk\n",
    "nltk.download('punkt')\n",
    "from nltk.chat.util import Chat, reflections\n",
    "\n",
    "# Define pairs of patterns and responses\n",
    "pairs = [\n",
    "    [r\"hi|hello|hey\", [\"Hello!\", \"Hey there!\", \"Hi!\"]],\n",
    "    [r\"how are you?\", [\"I'm good, thanks!\", \"I'm doing well!\"]],\n",
    "    [r\"what is your name?\", [\"I'm a chatbot.\", \"Call me ChatBot!\"]],\n",
    "]\n",
    "\n",
    "# Create chatbot instance\n",
    "chatbot = Chat(pairs, reflections)\n",
    "\n",
    "# Start chatting\n",
    "while True:\n",
    "    user_input = input(\"You: \")\n",
    "    if user_input.lower() in [\"quit\", \"exit\", \"bye\"]:\n",
    "        print(\"Chatbot: Goodbye!\")\n",
    "        break\n",
    "    response = chatbot.respond(user_input)\n",
    "    print(\"Chatbot:\", response)\n"
   ]
  },
  {
   "cell_type": "code",
   "execution_count": null,
   "id": "b909bac3-5e5d-4242-aaa8-077d04d89e44",
   "metadata": {},
   "outputs": [],
   "source": []
  }
 ],
 "metadata": {
  "kernelspec": {
   "display_name": "Python [conda env:base] *",
   "language": "python",
   "name": "conda-base-py"
  },
  "language_info": {
   "codemirror_mode": {
    "name": "ipython",
    "version": 3
   },
   "file_extension": ".py",
   "mimetype": "text/x-python",
   "name": "python",
   "nbconvert_exporter": "python",
   "pygments_lexer": "ipython3",
   "version": "3.12.7"
  }
 },
 "nbformat": 4,
 "nbformat_minor": 5
}
